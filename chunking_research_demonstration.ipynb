{
 "cells": [
  {
   "cell_type": "markdown",
   "id": "8a8abd21-2273-4a3e-91e0-db2a2e6ebe19",
   "metadata": {},
   "source": [
    "# Semantic RAG Chunking Research: Advanced Mathematical Building Blocks\n",
    "============================================================\n",
    "\n",
    "**Retrieval Augmented Generation (RAG):** Describes the process of implementing semantic similarity processing into large language model context pipelines so that large language models are able to be systematically fed the most accurate, relevant information possible when prompted.\n",
    "\n",
    "**Embeddings:** A mathematical representation of the semantic meaning of a particular phrase. Imagine an asterisk in 3D space, but with hundreds or thousands of points instead of just six. We use these mathematical representations of natural language phrases to compare between one another.\n",
    "\n",
    "**Chunking:** The process by which we separate documents into groups of sentences (chunks) based on semantic similarity. Think of breaking up a document into \"paragraphs.\"\n",
    "\n",
    "This notebook demonstrates novel, advanced semantic chunking algorithms developed through extensive research into mathematical optimization techniques for Retrieval Augmented Generation (RAG) systems. All research was conducted on the now-depreciated Chunking Subnet within the Bittensor ecosystem; an extremely competitve, decentralized network of incentivized miners that compete to solve problems. \n",
    "\n",
    "## Table of Contents:\n",
    "1. Foundation - Understanding the Problem\n",
    "2. Building Block 1 - Similarity Matrices\n",
    "3. Building Block 2 - Distance Calculations\n",
    "4. Building Block 3 - Dynamic Programming Framework\n",
    "5. Building Block 4 - Advanced Optimization Tools\n",
    "6. The Five Methods - Combining Building Blocks\n",
    "7. Comparative Analysis and Validation"
   ]
  },
  {
   "cell_type": "markdown",
   "id": "fc8a60f4-2401-4635-b4f4-eaa58e1b8e2a",
   "metadata": {},
   "source": [
    "## 1.0 Foundation - Understanding the Problem\n",
    "\n",
    "When we use natural language processing to talk to LLM's, we need to ensure we give them semantically relevant, accurate information. We also want to make sure we don't give them *too* much information as well. This is why we build RAG systems that allow us to retrieve relevant information so that a model can give an accurate output based on the user's input prompt.\n",
    "\n",
    "Let's say a user talks to an LLM about a question inside a document. A typical LLM pipeline might look like this:\n",
    "\n",
    "0. Prior to any user interaction, the document would be chunked according to semantic similarity, and these chunks of text would be stored in a \"vector store\" for retrieval upon prompting (explained later).\n",
    "1. User inputs a prompt into an LLM.\n",
    "2. User's prompt is first directly fed to an embedding model.\n",
    "3. Embedding is sent to the vector store service that hosts the document's text and embeddings, almost like a \"library lookup\" for relevant text.\n",
    "4. Most semantically relevant text from the document is returned back to the model as additional context, along with the original text prompt.\n",
    "5. LLM is able to answer the question accurately and reliably without becoming overloaded."
   ]
  },
  {
   "cell_type": "markdown",
   "id": "a0ee2b1d-26c0-435d-8413-8b634bdc29bf",
   "metadata": {},
   "source": [
    "## 1.1 Chunking, Solved Through Bittensor\n",
    "\n",
    "How would you separate a Harry Potter article into paragraphs, without having the indentations? What about a phone book, or an excel spreadsheet full of medical records? What about a long series of emails across multiple topics? This is the core problem of chunking; it's arguably infinitely complex. Not because humans can't do it, but because there's technically no right or wrong answer. Chunking heavily depends on the use-case of the documents being chunked.\n",
    "\n",
    "Enter Bittensor; a network of engineers being incentivized to solve impossible problems. From 2024-2025, the subnet known as Chunking, set out to solve this exact problem, with its own reward structure and heuristic for doing so. The research described in this notebook was discovered via this specific reward heuristic, which will be demonstrated."
   ]
  },
  {
   "cell_type": "markdown",
   "id": "2a8b8eea-2bf4-439e-9da2-c36258cb007d",
   "metadata": {},
   "source": [
    "## 1.2 What Does Good Chunking Look Like?"
   ]
  },
  {
   "cell_type": "code",
   "execution_count": 20,
   "id": "92042aea-430e-46b8-9859-1205afcfaa93",
   "metadata": {},
   "outputs": [],
   "source": [
    "# Let's start with a simple example\n",
    "sample_text = \"\"\"\n",
    "Harry Potter was a young wizard who lived with his aunt and uncle. \n",
    "He had messy black hair and wore round glasses.\n",
    "Hogwarts School of Witchcraft and Wizardry was his home.\n",
    "The climate change crisis threatens our planet's future.\n",
    "Rising sea levels endanger coastal communities worldwide.\n",
    "\"\"\"\n",
    "\n",
    "# If we chunk this manually, we'd probably group:\n",
    "# Chunk 1: Sentences about Harry Potter (1, 2, 3)\n",
    "# Chunk 2: Sentences about climate change (4, 5)s\n",
    "\n",
    "# Manual chunking makes sense because:\n",
    "# 1. Harry Potter sentences are similar to each other\n",
    "# 2. Climate sentences are similar to each other\n",
    "# 3. But Harry Potter sentences are DIFFERENT from climate sentences."
   ]
  },
  {
   "cell_type": "markdown",
   "id": "30aadfd7-a276-4057-b242-e7739fccf456",
   "metadata": {},
   "source": [
    "But how do we teach a computer to understand \"similarity\" to begin with? This is where **vector embeddings** come in.\n",
    "Think of embeddings as a way to translate sentences into mathematical coordinates.\n",
    "\n",
    "In the following example, you'll be able to actually **see** vector embeddings in 3D space. Feel free to change the sentences in Step 2 however you'd like as well to experiment!"
   ]
  },
  {
   "cell_type": "code",
   "execution_count": 1,
   "id": "c0465ba5-5966-49dc-bb1b-bba048f129d8",
   "metadata": {},
   "outputs": [
    {
     "name": "stdout",
     "output_type": "stream",
     "text": [
      "🤖 Loading SentenceTransformer model...\n",
      "✅ Model loaded! This creates 384-dimensional vectors for each sentence.\n",
      "\n",
      "🧮 Computing real embeddings...\n",
      "✅ Got embeddings! Shape: (5, 384)\n",
      "   → Each sentence is now a 384-dimensional vector\n",
      "\n",
      "📊 Raw embedding samples (first 10 dimensions):\n",
      "=======================================================\n",
      "Sentence 1: 'Harry Potter was a young wizard...'\n",
      "First 10 dims: [ 0.004  0.079 -0.044  0.028 -0.075  0.003  0.023 -0.006 -0.043 -0.038]\n",
      "\n",
      "Sentence 2: 'He wore round glasses...'\n",
      "First 10 dims: [ 0.037  0.109 -0.036 -0.014 -0.003 -0.033  0.122  0.043 -0.045  0.022]\n",
      "\n",
      "Sentence 3: 'Hogwarts School of Witchcraft and W...'\n",
      "First 10 dims: [ 0.059  0.076 -0.052  0.025 -0.051 -0.018  0.039 -0.044 -0.106 -0.056]\n",
      "\n",
      "Sentence 4: 'Climate change threatens our planet...'\n",
      "First 10 dims: [-0.007  0.088  0.11   0.062  0.127  0.054 -0.066 -0.01   0.041  0.044]\n",
      "\n",
      "Sentence 5: 'Rising sea levels are dangerous...'\n",
      "First 10 dims: [-0.019  0.01   0.067  0.019  0.023  0.038 -0.07   0.032 -0.068  0.001]\n",
      "\n",
      "🔄 Reducing 384 dimensions → 3 dimensions for visualization...\n",
      "✅ 3D visualization captures 88.4% of the original information\n",
      "\n",
      "🎨 Creating 3D vector visualization (the 'asterisk' pattern)...\n"
     ]
    },
    {
     "data": {
      "application/vnd.plotly.v1+json": {
       "config": {
        "plotlyServerURL": "https://plot.ly"
       },
       "data": [
        {
         "marker": {
          "color": "black",
          "size": 8,
          "symbol": "diamond"
         },
         "mode": "markers",
         "name": "Origin (0,0,0)",
         "showlegend": true,
         "type": "scatter3d",
         "x": [
          0
         ],
         "y": [
          0
         ],
         "z": [
          0
         ]
        },
        {
         "hovertemplate": "<b>Sentence 1</b><br>Harry Potter<br>'Harry Potter was a young wizard...'<br>Vector: [-0.537, 0.198, -0.028]<br><extra></extra>",
         "marker": {
          "color": "blue",
          "opacity": 0.8,
          "size": 10
         },
         "mode": "markers+text",
         "name": "S1: Harry Potter",
         "showlegend": true,
         "text": [
          "S1"
         ],
         "textposition": "top center",
         "type": "scatter3d",
         "x": [
          -0.5365548729896545
         ],
         "y": [
          0.19818469882011414
         ],
         "z": [
          -0.02824164181947708
         ]
        },
        {
         "hoverinfo": "skip",
         "line": {
          "color": "blue",
          "width": 4
         },
         "mode": "lines",
         "name": "Vector S1",
         "showlegend": false,
         "type": "scatter3d",
         "x": [
          0,
          -0.5365548729896545
         ],
         "y": [
          0,
          0.19818469882011414
         ],
         "z": [
          0,
          -0.02824164181947708
         ]
        },
        {
         "hovertemplate": "<b>Sentence 2</b><br>Harry Potter<br>'He wore round glasses...'<br>Vector: [-0.246, -0.780, 0.172]<br><extra></extra>",
         "marker": {
          "color": "lightblue",
          "opacity": 0.8,
          "size": 10
         },
         "mode": "markers+text",
         "name": "S2: Harry Potter",
         "showlegend": true,
         "text": [
          "S2"
         ],
         "textposition": "top center",
         "type": "scatter3d",
         "x": [
          -0.24559924006462097
         ],
         "y": [
          -0.7795882225036621
         ],
         "z": [
          0.1720743179321289
         ]
        },
        {
         "hoverinfo": "skip",
         "line": {
          "color": "lightblue",
          "width": 4
         },
         "mode": "lines",
         "name": "Vector S2",
         "showlegend": false,
         "type": "scatter3d",
         "x": [
          0,
          -0.24559924006462097
         ],
         "y": [
          0,
          -0.7795882225036621
         ],
         "z": [
          0,
          0.1720743179321289
         ]
        },
        {
         "hovertemplate": "<b>Sentence 3</b><br>Harry Potter<br>'Hogwarts School of Witchcraft and Wizardry was his...'<br>Vector: [-0.616, 0.374, -0.096]<br><extra></extra>",
         "marker": {
          "color": "blue",
          "opacity": 0.8,
          "size": 10
         },
         "mode": "markers+text",
         "name": "S3: Harry Potter",
         "showlegend": true,
         "text": [
          "S3"
         ],
         "textposition": "top center",
         "type": "scatter3d",
         "x": [
          -0.6158976554870605
         ],
         "y": [
          0.37423551082611084
         ],
         "z": [
          -0.09576592594385147
         ]
        },
        {
         "hoverinfo": "skip",
         "line": {
          "color": "blue",
          "width": 4
         },
         "mode": "lines",
         "name": "Vector S3",
         "showlegend": false,
         "type": "scatter3d",
         "x": [
          0,
          -0.6158976554870605
         ],
         "y": [
          0,
          0.37423551082611084
         ],
         "z": [
          0,
          -0.09576592594385147
         ]
        },
        {
         "hovertemplate": "<b>Sentence 4</b><br>Climate<br>'Climate change threatens our planet...'<br>Vector: [0.697, -0.065, -0.559]<br><extra></extra>",
         "marker": {
          "color": "red",
          "opacity": 0.8,
          "size": 10
         },
         "mode": "markers+text",
         "name": "S4: Climate",
         "showlegend": true,
         "text": [
          "S4"
         ],
         "textposition": "top center",
         "type": "scatter3d",
         "x": [
          0.6974112391471863
         ],
         "y": [
          -0.0653257817029953
         ],
         "z": [
          -0.5585259199142456
         ]
        },
        {
         "hoverinfo": "skip",
         "line": {
          "color": "red",
          "width": 4
         },
         "mode": "lines",
         "name": "Vector S4",
         "showlegend": false,
         "type": "scatter3d",
         "x": [
          0,
          0.6974112391471863
         ],
         "y": [
          0,
          -0.0653257817029953
         ],
         "z": [
          0,
          -0.5585259199142456
         ]
        },
        {
         "hovertemplate": "<b>Sentence 5</b><br>Climate<br>'Rising sea levels are dangerous...'<br>Vector: [0.701, 0.272, 0.510]<br><extra></extra>",
         "marker": {
          "color": "darkred",
          "opacity": 0.8,
          "size": 10
         },
         "mode": "markers+text",
         "name": "S5: Climate",
         "showlegend": true,
         "text": [
          "S5"
         ],
         "textposition": "top center",
         "type": "scatter3d",
         "x": [
          0.7006404995918274
         ],
         "y": [
          0.2724939286708832
         ],
         "z": [
          0.5104591846466064
         ]
        },
        {
         "hoverinfo": "skip",
         "line": {
          "color": "darkred",
          "width": 4
         },
         "mode": "lines",
         "name": "Vector S5",
         "showlegend": false,
         "type": "scatter3d",
         "x": [
          0,
          0.7006404995918274
         ],
         "y": [
          0,
          0.2724939286708832
         ],
         "z": [
          0,
          0.5104591846466064
         ]
        }
       ],
       "layout": {
        "height": 700,
        "legend": {
         "x": 0.02,
         "y": 0.98
        },
        "scene": {
         "camera": {
          "eye": {
           "x": 1.2,
           "y": 1.2,
           "z": 1.2
          }
         },
         "xaxis": {
          "showspikes": true,
          "spikecolor": "black",
          "spikethickness": 2,
          "title": {
           "text": "PC1 (Principal Component 1)"
          }
         },
         "yaxis": {
          "showspikes": true,
          "spikecolor": "black",
          "spikethickness": 2,
          "title": {
           "text": "PC2 (Principal Component 2)"
          }
         },
         "zaxis": {
          "showspikes": true,
          "spikecolor": "black",
          "spikethickness": 2,
          "title": {
           "text": "PC3 (Principal Component 3)"
          }
         }
        },
        "template": {
         "data": {
          "bar": [
           {
            "error_x": {
             "color": "#2a3f5f"
            },
            "error_y": {
             "color": "#2a3f5f"
            },
            "marker": {
             "line": {
              "color": "#E5ECF6",
              "width": 0.5
             },
             "pattern": {
              "fillmode": "overlay",
              "size": 10,
              "solidity": 0.2
             }
            },
            "type": "bar"
           }
          ],
          "barpolar": [
           {
            "marker": {
             "line": {
              "color": "#E5ECF6",
              "width": 0.5
             },
             "pattern": {
              "fillmode": "overlay",
              "size": 10,
              "solidity": 0.2
             }
            },
            "type": "barpolar"
           }
          ],
          "carpet": [
           {
            "aaxis": {
             "endlinecolor": "#2a3f5f",
             "gridcolor": "white",
             "linecolor": "white",
             "minorgridcolor": "white",
             "startlinecolor": "#2a3f5f"
            },
            "baxis": {
             "endlinecolor": "#2a3f5f",
             "gridcolor": "white",
             "linecolor": "white",
             "minorgridcolor": "white",
             "startlinecolor": "#2a3f5f"
            },
            "type": "carpet"
           }
          ],
          "choropleth": [
           {
            "colorbar": {
             "outlinewidth": 0,
             "ticks": ""
            },
            "type": "choropleth"
           }
          ],
          "contour": [
           {
            "colorbar": {
             "outlinewidth": 0,
             "ticks": ""
            },
            "colorscale": [
             [
              0,
              "#0d0887"
             ],
             [
              0.1111111111111111,
              "#46039f"
             ],
             [
              0.2222222222222222,
              "#7201a8"
             ],
             [
              0.3333333333333333,
              "#9c179e"
             ],
             [
              0.4444444444444444,
              "#bd3786"
             ],
             [
              0.5555555555555556,
              "#d8576b"
             ],
             [
              0.6666666666666666,
              "#ed7953"
             ],
             [
              0.7777777777777778,
              "#fb9f3a"
             ],
             [
              0.8888888888888888,
              "#fdca26"
             ],
             [
              1,
              "#f0f921"
             ]
            ],
            "type": "contour"
           }
          ],
          "contourcarpet": [
           {
            "colorbar": {
             "outlinewidth": 0,
             "ticks": ""
            },
            "type": "contourcarpet"
           }
          ],
          "heatmap": [
           {
            "colorbar": {
             "outlinewidth": 0,
             "ticks": ""
            },
            "colorscale": [
             [
              0,
              "#0d0887"
             ],
             [
              0.1111111111111111,
              "#46039f"
             ],
             [
              0.2222222222222222,
              "#7201a8"
             ],
             [
              0.3333333333333333,
              "#9c179e"
             ],
             [
              0.4444444444444444,
              "#bd3786"
             ],
             [
              0.5555555555555556,
              "#d8576b"
             ],
             [
              0.6666666666666666,
              "#ed7953"
             ],
             [
              0.7777777777777778,
              "#fb9f3a"
             ],
             [
              0.8888888888888888,
              "#fdca26"
             ],
             [
              1,
              "#f0f921"
             ]
            ],
            "type": "heatmap"
           }
          ],
          "histogram": [
           {
            "marker": {
             "pattern": {
              "fillmode": "overlay",
              "size": 10,
              "solidity": 0.2
             }
            },
            "type": "histogram"
           }
          ],
          "histogram2d": [
           {
            "colorbar": {
             "outlinewidth": 0,
             "ticks": ""
            },
            "colorscale": [
             [
              0,
              "#0d0887"
             ],
             [
              0.1111111111111111,
              "#46039f"
             ],
             [
              0.2222222222222222,
              "#7201a8"
             ],
             [
              0.3333333333333333,
              "#9c179e"
             ],
             [
              0.4444444444444444,
              "#bd3786"
             ],
             [
              0.5555555555555556,
              "#d8576b"
             ],
             [
              0.6666666666666666,
              "#ed7953"
             ],
             [
              0.7777777777777778,
              "#fb9f3a"
             ],
             [
              0.8888888888888888,
              "#fdca26"
             ],
             [
              1,
              "#f0f921"
             ]
            ],
            "type": "histogram2d"
           }
          ],
          "histogram2dcontour": [
           {
            "colorbar": {
             "outlinewidth": 0,
             "ticks": ""
            },
            "colorscale": [
             [
              0,
              "#0d0887"
             ],
             [
              0.1111111111111111,
              "#46039f"
             ],
             [
              0.2222222222222222,
              "#7201a8"
             ],
             [
              0.3333333333333333,
              "#9c179e"
             ],
             [
              0.4444444444444444,
              "#bd3786"
             ],
             [
              0.5555555555555556,
              "#d8576b"
             ],
             [
              0.6666666666666666,
              "#ed7953"
             ],
             [
              0.7777777777777778,
              "#fb9f3a"
             ],
             [
              0.8888888888888888,
              "#fdca26"
             ],
             [
              1,
              "#f0f921"
             ]
            ],
            "type": "histogram2dcontour"
           }
          ],
          "mesh3d": [
           {
            "colorbar": {
             "outlinewidth": 0,
             "ticks": ""
            },
            "type": "mesh3d"
           }
          ],
          "parcoords": [
           {
            "line": {
             "colorbar": {
              "outlinewidth": 0,
              "ticks": ""
             }
            },
            "type": "parcoords"
           }
          ],
          "pie": [
           {
            "automargin": true,
            "type": "pie"
           }
          ],
          "scatter": [
           {
            "fillpattern": {
             "fillmode": "overlay",
             "size": 10,
             "solidity": 0.2
            },
            "type": "scatter"
           }
          ],
          "scatter3d": [
           {
            "line": {
             "colorbar": {
              "outlinewidth": 0,
              "ticks": ""
             }
            },
            "marker": {
             "colorbar": {
              "outlinewidth": 0,
              "ticks": ""
             }
            },
            "type": "scatter3d"
           }
          ],
          "scattercarpet": [
           {
            "marker": {
             "colorbar": {
              "outlinewidth": 0,
              "ticks": ""
             }
            },
            "type": "scattercarpet"
           }
          ],
          "scattergeo": [
           {
            "marker": {
             "colorbar": {
              "outlinewidth": 0,
              "ticks": ""
             }
            },
            "type": "scattergeo"
           }
          ],
          "scattergl": [
           {
            "marker": {
             "colorbar": {
              "outlinewidth": 0,
              "ticks": ""
             }
            },
            "type": "scattergl"
           }
          ],
          "scattermap": [
           {
            "marker": {
             "colorbar": {
              "outlinewidth": 0,
              "ticks": ""
             }
            },
            "type": "scattermap"
           }
          ],
          "scattermapbox": [
           {
            "marker": {
             "colorbar": {
              "outlinewidth": 0,
              "ticks": ""
             }
            },
            "type": "scattermapbox"
           }
          ],
          "scatterpolar": [
           {
            "marker": {
             "colorbar": {
              "outlinewidth": 0,
              "ticks": ""
             }
            },
            "type": "scatterpolar"
           }
          ],
          "scatterpolargl": [
           {
            "marker": {
             "colorbar": {
              "outlinewidth": 0,
              "ticks": ""
             }
            },
            "type": "scatterpolargl"
           }
          ],
          "scatterternary": [
           {
            "marker": {
             "colorbar": {
              "outlinewidth": 0,
              "ticks": ""
             }
            },
            "type": "scatterternary"
           }
          ],
          "surface": [
           {
            "colorbar": {
             "outlinewidth": 0,
             "ticks": ""
            },
            "colorscale": [
             [
              0,
              "#0d0887"
             ],
             [
              0.1111111111111111,
              "#46039f"
             ],
             [
              0.2222222222222222,
              "#7201a8"
             ],
             [
              0.3333333333333333,
              "#9c179e"
             ],
             [
              0.4444444444444444,
              "#bd3786"
             ],
             [
              0.5555555555555556,
              "#d8576b"
             ],
             [
              0.6666666666666666,
              "#ed7953"
             ],
             [
              0.7777777777777778,
              "#fb9f3a"
             ],
             [
              0.8888888888888888,
              "#fdca26"
             ],
             [
              1,
              "#f0f921"
             ]
            ],
            "type": "surface"
           }
          ],
          "table": [
           {
            "cells": {
             "fill": {
              "color": "#EBF0F8"
             },
             "line": {
              "color": "white"
             }
            },
            "header": {
             "fill": {
              "color": "#C8D4E3"
             },
             "line": {
              "color": "white"
             }
            },
            "type": "table"
           }
          ]
         },
         "layout": {
          "annotationdefaults": {
           "arrowcolor": "#2a3f5f",
           "arrowhead": 0,
           "arrowwidth": 1
          },
          "autotypenumbers": "strict",
          "coloraxis": {
           "colorbar": {
            "outlinewidth": 0,
            "ticks": ""
           }
          },
          "colorscale": {
           "diverging": [
            [
             0,
             "#8e0152"
            ],
            [
             0.1,
             "#c51b7d"
            ],
            [
             0.2,
             "#de77ae"
            ],
            [
             0.3,
             "#f1b6da"
            ],
            [
             0.4,
             "#fde0ef"
            ],
            [
             0.5,
             "#f7f7f7"
            ],
            [
             0.6,
             "#e6f5d0"
            ],
            [
             0.7,
             "#b8e186"
            ],
            [
             0.8,
             "#7fbc41"
            ],
            [
             0.9,
             "#4d9221"
            ],
            [
             1,
             "#276419"
            ]
           ],
           "sequential": [
            [
             0,
             "#0d0887"
            ],
            [
             0.1111111111111111,
             "#46039f"
            ],
            [
             0.2222222222222222,
             "#7201a8"
            ],
            [
             0.3333333333333333,
             "#9c179e"
            ],
            [
             0.4444444444444444,
             "#bd3786"
            ],
            [
             0.5555555555555556,
             "#d8576b"
            ],
            [
             0.6666666666666666,
             "#ed7953"
            ],
            [
             0.7777777777777778,
             "#fb9f3a"
            ],
            [
             0.8888888888888888,
             "#fdca26"
            ],
            [
             1,
             "#f0f921"
            ]
           ],
           "sequentialminus": [
            [
             0,
             "#0d0887"
            ],
            [
             0.1111111111111111,
             "#46039f"
            ],
            [
             0.2222222222222222,
             "#7201a8"
            ],
            [
             0.3333333333333333,
             "#9c179e"
            ],
            [
             0.4444444444444444,
             "#bd3786"
            ],
            [
             0.5555555555555556,
             "#d8576b"
            ],
            [
             0.6666666666666666,
             "#ed7953"
            ],
            [
             0.7777777777777778,
             "#fb9f3a"
            ],
            [
             0.8888888888888888,
             "#fdca26"
            ],
            [
             1,
             "#f0f921"
            ]
           ]
          },
          "colorway": [
           "#636efa",
           "#EF553B",
           "#00cc96",
           "#ab63fa",
           "#FFA15A",
           "#19d3f3",
           "#FF6692",
           "#B6E880",
           "#FF97FF",
           "#FECB52"
          ],
          "font": {
           "color": "#2a3f5f"
          },
          "geo": {
           "bgcolor": "white",
           "lakecolor": "white",
           "landcolor": "#E5ECF6",
           "showlakes": true,
           "showland": true,
           "subunitcolor": "white"
          },
          "hoverlabel": {
           "align": "left"
          },
          "hovermode": "closest",
          "mapbox": {
           "style": "light"
          },
          "paper_bgcolor": "white",
          "plot_bgcolor": "#E5ECF6",
          "polar": {
           "angularaxis": {
            "gridcolor": "white",
            "linecolor": "white",
            "ticks": ""
           },
           "bgcolor": "#E5ECF6",
           "radialaxis": {
            "gridcolor": "white",
            "linecolor": "white",
            "ticks": ""
           }
          },
          "scene": {
           "xaxis": {
            "backgroundcolor": "#E5ECF6",
            "gridcolor": "white",
            "gridwidth": 2,
            "linecolor": "white",
            "showbackground": true,
            "ticks": "",
            "zerolinecolor": "white"
           },
           "yaxis": {
            "backgroundcolor": "#E5ECF6",
            "gridcolor": "white",
            "gridwidth": 2,
            "linecolor": "white",
            "showbackground": true,
            "ticks": "",
            "zerolinecolor": "white"
           },
           "zaxis": {
            "backgroundcolor": "#E5ECF6",
            "gridcolor": "white",
            "gridwidth": 2,
            "linecolor": "white",
            "showbackground": true,
            "ticks": "",
            "zerolinecolor": "white"
           }
          },
          "shapedefaults": {
           "line": {
            "color": "#2a3f5f"
           }
          },
          "ternary": {
           "aaxis": {
            "gridcolor": "white",
            "linecolor": "white",
            "ticks": ""
           },
           "baxis": {
            "gridcolor": "white",
            "linecolor": "white",
            "ticks": ""
           },
           "bgcolor": "#E5ECF6",
           "caxis": {
            "gridcolor": "white",
            "linecolor": "white",
            "ticks": ""
           }
          },
          "title": {
           "x": 0.05
          },
          "xaxis": {
           "automargin": true,
           "gridcolor": "white",
           "linecolor": "white",
           "ticks": "",
           "title": {
            "standoff": 15
           },
           "zerolinecolor": "white",
           "zerolinewidth": 2
          },
          "yaxis": {
           "automargin": true,
           "gridcolor": "white",
           "linecolor": "white",
           "ticks": "",
           "title": {
            "standoff": 15
           },
           "zerolinecolor": "white",
           "zerolinewidth": 2
          }
         }
        },
        "title": {
         "text": "Sentence Embeddings as 3D Vectors<br><sub>Vectors from origin show the 'asterisk' pattern. Angle between S1-S3: 11.9°</sub>"
        },
        "width": 900
       }
      },
      "image/png": "[encoded data removed]"
     },
     "metadata": {},
     "output_type": "display_data"
    },
    {
     "name": "stdout",
     "output_type": "stream",
     "text": [
      "📍 3D Coordinates:\n",
      "====================\n",
      "S1: [-0.537,  0.198, -0.028] - 'Harry Potter was a young wizard...'\n",
      "S2: [-0.246, -0.780,  0.172] - 'He wore round glasses...'\n",
      "S3: [-0.616,  0.374, -0.096] - 'Hogwarts School of Witchcraft and Wizard...'\n",
      "S4: [ 0.697, -0.065, -0.559] - 'Climate change threatens our planet...'\n",
      "S5: [ 0.701,  0.272,  0.510] - 'Rising sea levels are dangerous...'\n",
      "\n",
      "🎯 Key Observations from the Vector Visualization:\n",
      "   • Each sentence is a VECTOR (arrow) from the origin to its point\n",
      "   • Harry Potter vectors (S1, S2, S3) point in similar directions\n",
      "   • Climate vectors (S4, S5) point in a similar direction to each other\n",
      "   • But Harry Potter and Climate vectors point in VERY different directions!\n",
      "   • The ANGLE between vectors determines similarity (not distance)\n",
      "   • Small angle = high similarity, large angle = low similarity\n",
      "\n",
      "💡 This 'asterisk' pattern is why it's called 'vector' embeddings!\n",
      "   Each sentence becomes an arrow pointing in semantic space.\n"
     ]
    }
   ],
   "source": [
    "import numpy as np\n",
    "import plotly.graph_objects as go\n",
    "from sentence_transformers import SentenceTransformer\n",
    "from sklearn.decomposition import PCA\n",
    "\n",
    "def real_embedding_demo():\n",
    "    \"\"\"\n",
    "    REAL demonstration of how embeddings work using actual AI models!\n",
    "    We'll use MiniLM to get actual 384-dimensional embeddings, then visualize in 3D.\n",
    "    \"\"\"\n",
    "    \n",
    "    # Step 1: Load a real embedding model\n",
    "    print(\"🤖 Loading SentenceTransformer model...\")\n",
    "    model = SentenceTransformer('all-MiniLM-L6-v2')  # 384 dimensions\n",
    "    print(\"✅ Model loaded! This creates 384-dimensional vectors for each sentence.\")\n",
    "    print()\n",
    "    \n",
    "    # Step 2: Our sample sentences (same as before)\n",
    "    sentences = [\n",
    "        \"Harry Potter was a young wizard\",\n",
    "        \"He wore round glasses\", \n",
    "        \"Hogwarts School of Witchcraft and Wizardry was his home\",\n",
    "        \"Climate change threatens our planet\",\n",
    "        \"Rising sea levels are dangerous\"\n",
    "    ]\n",
    "    \n",
    "    # Step 3: Get REAL embeddings from the model\n",
    "    print(\"🧮 Computing real embeddings...\")\n",
    "    embeddings = model.encode(sentences)\n",
    "    print(f\"✅ Got embeddings! Shape: {embeddings.shape}\")\n",
    "    print(f\"   → Each sentence is now a {embeddings.shape[1]}-dimensional vector\")\n",
    "    print()\n",
    "    \n",
    "    # Step 4: Show what the raw embeddings look like\n",
    "    print(\"📊 Raw embedding samples (first 10 dimensions):\")\n",
    "    print(\"=\" * 55)\n",
    "    for i, (sentence, embedding) in enumerate(zip(sentences, embeddings)):\n",
    "        print(f\"Sentence {i+1}: '{sentence[:35]}...'\")\n",
    "        print(f\"First 10 dims: {embedding[:10].round(3)}\")\n",
    "        print()\n",
    "    \n",
    "    # Step 5: Reduce to 3D for visualization using PCA\n",
    "    print(\"🔄 Reducing 384 dimensions → 3 dimensions for visualization...\")\n",
    "    pca = PCA(n_components=3)\n",
    "    embeddings_3d = pca.fit_transform(embeddings)\n",
    "    \n",
    "    # Show how much information we retain in 3D\n",
    "    explained_variance = pca.explained_variance_ratio_.sum()\n",
    "    print(f\"✅ 3D visualization captures {explained_variance:.1%} of the original information\")\n",
    "    print()\n",
    "    \n",
    "    # Step 6: Create interactive 3D visualization showing vectors from origin\n",
    "    print(\"🎨 Creating 3D vector visualization (the 'asterisk' pattern)...\")\n",
    "    \n",
    "    # Color code by topic: Harry Potter (blue) vs Climate (red)\n",
    "    colors = ['blue', 'lightblue', 'blue', 'red', 'darkred']\n",
    "    topics = ['Harry Potter', 'Harry Potter', 'Harry Potter', 'Climate', 'Climate']\n",
    "    \n",
    "    fig = go.Figure()\n",
    "    \n",
    "    # Add the origin point (0,0,0)\n",
    "    fig.add_trace(go.Scatter3d(\n",
    "        x=[0], y=[0], z=[0],\n",
    "        mode='markers',\n",
    "        marker=dict(size=8, color='black', symbol='diamond'),\n",
    "        name='Origin (0,0,0)',\n",
    "        showlegend=True\n",
    "    ))\n",
    "    \n",
    "    # Add vectors (arrows) from origin to each sentence embedding\n",
    "    for i, (coords, color, topic, sentence) in enumerate(zip(embeddings_3d, colors, topics, sentences)):\n",
    "        # Add the endpoint (sentence position)\n",
    "        fig.add_trace(go.Scatter3d(\n",
    "            x=[coords[0]], \n",
    "            y=[coords[1]], \n",
    "            z=[coords[2]],\n",
    "            mode='markers+text',\n",
    "            marker=dict(size=10, color=color, opacity=0.8),\n",
    "            text=[f\"S{i+1}\"],\n",
    "            textposition=\"top center\",\n",
    "            name=f\"S{i+1}: {topic}\",\n",
    "            hovertemplate=f\"<b>Sentence {i+1}</b><br>\" +\n",
    "                         f\"{topic}<br>\" +\n",
    "                         f\"'{sentence[:50]}...'<br>\" +\n",
    "                         f\"Vector: [{coords[0]:.3f}, {coords[1]:.3f}, {coords[2]:.3f}]<br>\" +\n",
    "                         \"<extra></extra>\",\n",
    "            showlegend=True\n",
    "        ))\n",
    "        \n",
    "        # Add the vector line from origin to sentence\n",
    "        fig.add_trace(go.Scatter3d(\n",
    "            x=[0, coords[0]], \n",
    "            y=[0, coords[1]], \n",
    "            z=[0, coords[2]],\n",
    "            mode='lines',\n",
    "            line=dict(color=color, width=4),\n",
    "            name=f\"Vector S{i+1}\",\n",
    "            showlegend=False,  # Don't clutter legend with vector lines\n",
    "            hoverinfo='skip'\n",
    "        ))\n",
    "    \n",
    "    # Add angle visualization between similar vectors (optional enhancement)\n",
    "    # Let's show the angle between S1 and S3 (both Harry Potter)\n",
    "    s1_coords = embeddings_3d[0]\n",
    "    s3_coords = embeddings_3d[2]\n",
    "    \n",
    "    # Calculate the angle between vectors for display\n",
    "    dot_product = np.dot(s1_coords, s3_coords)\n",
    "    magnitude1 = np.linalg.norm(s1_coords)\n",
    "    magnitude3 = np.linalg.norm(s3_coords)\n",
    "    angle_radians = np.arccos(np.clip(dot_product / (magnitude1 * magnitude3), -1.0, 1.0))\n",
    "    angle_degrees = np.degrees(angle_radians)\n",
    "    \n",
    "    fig.update_layout(\n",
    "        title=f\"Sentence Embeddings as 3D Vectors<br><sub>Vectors from origin show the 'asterisk' pattern. Angle between S1-S3: {angle_degrees:.1f}°</sub>\",\n",
    "        scene=dict(\n",
    "            xaxis_title=\"PC1 (Principal Component 1)\",\n",
    "            yaxis_title=\"PC2 (Principal Component 2)\", \n",
    "            zaxis_title=\"PC3 (Principal Component 3)\",\n",
    "            camera=dict(eye=dict(x=1.2, y=1.2, z=1.2)),\n",
    "            # Make sure we can see the origin clearly\n",
    "            xaxis=dict(showspikes=True, spikecolor=\"black\", spikethickness=2),\n",
    "            yaxis=dict(showspikes=True, spikecolor=\"black\", spikethickness=2),\n",
    "            zaxis=dict(showspikes=True, spikecolor=\"black\", spikethickness=2)\n",
    "        ),\n",
    "        width=900,\n",
    "        height=700,\n",
    "        legend=dict(x=0.02, y=0.98)\n",
    "    )\n",
    "    \n",
    "    fig.show()\n",
    "    \n",
    "    # Step 7: Print the 3D coordinates for reference\n",
    "    print(\"📍 3D Coordinates:\")\n",
    "    print(\"=\" * 20)\n",
    "    for i, (sentence, coords) in enumerate(zip(sentences, embeddings_3d)):\n",
    "        print(f\"S{i+1}: [{coords[0]:6.3f}, {coords[1]:6.3f}, {coords[2]:6.3f}] - '{sentence[:40]}...'\")\n",
    "    \n",
    "    print(\"\\n🎯 Key Observations from the Vector Visualization:\")\n",
    "    print(\"   • Each sentence is a VECTOR (arrow) from the origin to its point\")\n",
    "    print(\"   • Harry Potter vectors (S1, S2, S3) point in similar directions\")\n",
    "    print(\"   • Climate vectors (S4, S5) point in a similar direction to each other\") \n",
    "    print(\"   • But Harry Potter and Climate vectors point in VERY different directions!\")\n",
    "    print(\"   • The ANGLE between vectors determines similarity (not distance)\")\n",
    "    print(f\"   • Small angle = high similarity, large angle = low similarity\")\n",
    "    print()\n",
    "    print(\"💡 This 'asterisk' pattern is why it's called 'vector' embeddings!\")\n",
    "    print(\"   Each sentence becomes an arrow pointing in semantic space.\")\n",
    "    \n",
    "    return sentences, embeddings, embeddings_3d\n",
    "\n",
    "# Run the demo\n",
    "sentences, embeddings, embeddings_3d = real_embedding_demo()"
   ]
  },
  {
   "cell_type": "markdown",
   "id": "75b0c3d3-bdce-405e-8d5f-3b595dd9b4fe",
   "metadata": {},
   "source": [
    "Knowing this, we can mathematically compare sentences by calculating **dot product similarity** between their dimensions:"
   ]
  },
  {
   "cell_type": "code",
   "execution_count": 5,
   "id": "b80c4bfa-91a7-4b0d-a05c-5f2705ade3bf",
   "metadata": {},
   "outputs": [
    {
     "name": "stdout",
     "output_type": "stream",
     "text": [
      ">>> Demonstrating Dot Product Similarity in 3D Space\n",
      "==================================================\n",
      "Sentence A: 'Harry Potter was a young wizard'\n",
      "Sentence B: 'Climate change threatens our planet'\n",
      "\n",
      "Getting embeddings for both sentences...\n",
      "Original embeddings shape: (3, 384)\n",
      "3D coordinates for visualization:\n",
      "  Vector A: [-0.579,  0.556, -0.000]\n",
      "  Vector B: [ 0.823,  0.175, -0.000]\n",
      "\n",
      "Mathematical Breakdown:\n",
      "  Dot Product: -0.055\n",
      "  Vector A magnitude: 1.000\n",
      "  Vector B magnitude: 1.000\n",
      "  Normalized value (for angle): -0.055\n",
      "  Angle between vectors: 93.1°\n",
      "\n"
     ]
    },
    {
     "data": {
      "application/vnd.plotly.v1+json": {
       "config": {
        "plotlyServerURL": "https://plot.ly"
       },
       "data": [
        {
         "marker": {
          "color": "black",
          "size": 10,
          "symbol": "diamond"
         },
         "mode": "markers",
         "name": "Origin (0,0,0)",
         "type": "scatter3d",
         "x": [
          0
         ],
         "y": [
          0
         ],
         "z": [
          0
         ]
        },
        {
         "hovertemplate": "<b>Harry Potter Vector</b><br>Sentence: 'Harry Potter was a young wizard'<br>3D Endpoint: [-0.579, 0.556, -0.000]<br>Original Magnitude: 1.000<br><extra></extra>",
         "line": {
          "color": "blue",
          "width": 6
         },
         "marker": {
          "color": [
           "black",
           "blue"
          ],
          "size": [
           8,
           12
          ]
         },
         "mode": "lines+markers",
         "name": "Vector A: Harry Potter",
         "type": "scatter3d",
         "x": [
          0,
          -0.5790897607803345
         ],
         "y": [
          0,
          0.5558443069458008
         ],
         "z": [
          0,
          -8.941996298972299e-08
         ]
        },
        {
         "hovertemplate": "<b>Climate Vector</b><br>Sentence: 'Climate change threatens our planet'<br>3D Endpoint: [0.823, 0.175, -0.000]<br>Original Magnitude: 1.000<br><extra></extra>",
         "line": {
          "color": "red",
          "width": 6
         },
         "marker": {
          "color": [
           "black",
           "red"
          ],
          "size": [
           8,
           12
          ]
         },
         "mode": "lines+markers",
         "name": "Vector B: Climate",
         "type": "scatter3d",
         "x": [
          0,
          0.8225264549255371
         ],
         "y": [
          0,
          0.17502567172050476
         ],
         "z": [
          0,
          -8.941998430600506e-08
         ]
        },
        {
         "hoverinfo": "skip",
         "mode": "text",
         "showlegend": false,
         "text": [
          "A",
          "B"
         ],
         "textfont": {
          "color": [
           "blue",
           "red"
          ],
          "size": 16
         },
         "textposition": "top center",
         "type": "scatter3d",
         "x": [
          -0.5790897607803345,
          0.8225264549255371
         ],
         "y": [
          0.5558443069458008,
          0.17502567172050476
         ],
         "z": [
          -8.941996298972299e-08,
          -8.941998430600506e-08
         ]
        }
       ],
       "layout": {
        "height": 600,
        "scene": {
         "aspectmode": "cube",
         "camera": {
          "eye": {
           "x": 1.3,
           "y": 1.3,
           "z": 1.3
          }
         },
         "xaxis": {
          "title": {
           "text": "PC1 (Principal Component 1)"
          }
         },
         "yaxis": {
          "title": {
           "text": "PC2 (Principal Component 2)"
          }
         },
         "zaxis": {
          "title": {
           "text": "PC3 (Principal Component 3)"
          }
         }
        },
        "template": {
         "data": {
          "bar": [
           {
            "error_x": {
             "color": "#2a3f5f"
            },
            "error_y": {
             "color": "#2a3f5f"
            },
            "marker": {
             "line": {
              "color": "#E5ECF6",
              "width": 0.5
             },
             "pattern": {
              "fillmode": "overlay",
              "size": 10,
              "solidity": 0.2
             }
            },
            "type": "bar"
           }
          ],
          "barpolar": [
           {
            "marker": {
             "line": {
              "color": "#E5ECF6",
              "width": 0.5
             },
             "pattern": {
              "fillmode": "overlay",
              "size": 10,
              "solidity": 0.2
             }
            },
            "type": "barpolar"
           }
          ],
          "carpet": [
           {
            "aaxis": {
             "endlinecolor": "#2a3f5f",
             "gridcolor": "white",
             "linecolor": "white",
             "minorgridcolor": "white",
             "startlinecolor": "#2a3f5f"
            },
            "baxis": {
             "endlinecolor": "#2a3f5f",
             "gridcolor": "white",
             "linecolor": "white",
             "minorgridcolor": "white",
             "startlinecolor": "#2a3f5f"
            },
            "type": "carpet"
           }
          ],
          "choropleth": [
           {
            "colorbar": {
             "outlinewidth": 0,
             "ticks": ""
            },
            "type": "choropleth"
           }
          ],
          "contour": [
           {
            "colorbar": {
             "outlinewidth": 0,
             "ticks": ""
            },
            "colorscale": [
             [
              0,
              "#0d0887"
             ],
             [
              0.1111111111111111,
              "#46039f"
             ],
             [
              0.2222222222222222,
              "#7201a8"
             ],
             [
              0.3333333333333333,
              "#9c179e"
             ],
             [
              0.4444444444444444,
              "#bd3786"
             ],
             [
              0.5555555555555556,
              "#d8576b"
             ],
             [
              0.6666666666666666,
              "#ed7953"
             ],
             [
              0.7777777777777778,
              "#fb9f3a"
             ],
             [
              0.8888888888888888,
              "#fdca26"
             ],
             [
              1,
              "#f0f921"
             ]
            ],
            "type": "contour"
           }
          ],
          "contourcarpet": [
           {
            "colorbar": {
             "outlinewidth": 0,
             "ticks": ""
            },
            "type": "contourcarpet"
           }
          ],
          "heatmap": [
           {
            "colorbar": {
             "outlinewidth": 0,
             "ticks": ""
            },
            "colorscale": [
             [
              0,
              "#0d0887"
             ],
             [
              0.1111111111111111,
              "#46039f"
             ],
             [
              0.2222222222222222,
              "#7201a8"
             ],
             [
              0.3333333333333333,
              "#9c179e"
             ],
             [
              0.4444444444444444,
              "#bd3786"
             ],
             [
              0.5555555555555556,
              "#d8576b"
             ],
             [
              0.6666666666666666,
              "#ed7953"
             ],
             [
              0.7777777777777778,
              "#fb9f3a"
             ],
             [
              0.8888888888888888,
              "#fdca26"
             ],
             [
              1,
              "#f0f921"
             ]
            ],
            "type": "heatmap"
           }
          ],
          "histogram": [
           {
            "marker": {
             "pattern": {
              "fillmode": "overlay",
              "size": 10,
              "solidity": 0.2
             }
            },
            "type": "histogram"
           }
          ],
          "histogram2d": [
           {
            "colorbar": {
             "outlinewidth": 0,
             "ticks": ""
            },
            "colorscale": [
             [
              0,
              "#0d0887"
             ],
             [
              0.1111111111111111,
              "#46039f"
             ],
             [
              0.2222222222222222,
              "#7201a8"
             ],
             [
              0.3333333333333333,
              "#9c179e"
             ],
             [
              0.4444444444444444,
              "#bd3786"
             ],
             [
              0.5555555555555556,
              "#d8576b"
             ],
             [
              0.6666666666666666,
              "#ed7953"
             ],
             [
              0.7777777777777778,
              "#fb9f3a"
             ],
             [
              0.8888888888888888,
              "#fdca26"
             ],
             [
              1,
              "#f0f921"
             ]
            ],
            "type": "histogram2d"
           }
          ],
          "histogram2dcontour": [
           {
            "colorbar": {
             "outlinewidth": 0,
             "ticks": ""
            },
            "colorscale": [
             [
              0,
              "#0d0887"
             ],
             [
              0.1111111111111111,
              "#46039f"
             ],
             [
              0.2222222222222222,
              "#7201a8"
             ],
             [
              0.3333333333333333,
              "#9c179e"
             ],
             [
              0.4444444444444444,
              "#bd3786"
             ],
             [
              0.5555555555555556,
              "#d8576b"
             ],
             [
              0.6666666666666666,
              "#ed7953"
             ],
             [
              0.7777777777777778,
              "#fb9f3a"
             ],
             [
              0.8888888888888888,
              "#fdca26"
             ],
             [
              1,
              "#f0f921"
             ]
            ],
            "type": "histogram2dcontour"
           }
          ],
          "mesh3d": [
           {
            "colorbar": {
             "outlinewidth": 0,
             "ticks": ""
            },
            "type": "mesh3d"
           }
          ],
          "parcoords": [
           {
            "line": {
             "colorbar": {
              "outlinewidth": 0,
              "ticks": ""
             }
            },
            "type": "parcoords"
           }
          ],
          "pie": [
           {
            "automargin": true,
            "type": "pie"
           }
          ],
          "scatter": [
           {
            "fillpattern": {
             "fillmode": "overlay",
             "size": 10,
             "solidity": 0.2
            },
            "type": "scatter"
           }
          ],
          "scatter3d": [
           {
            "line": {
             "colorbar": {
              "outlinewidth": 0,
              "ticks": ""
             }
            },
            "marker": {
             "colorbar": {
              "outlinewidth": 0,
              "ticks": ""
             }
            },
            "type": "scatter3d"
           }
          ],
          "scattercarpet": [
           {
            "marker": {
             "colorbar": {
              "outlinewidth": 0,
              "ticks": ""
             }
            },
            "type": "scattercarpet"
           }
          ],
          "scattergeo": [
           {
            "marker": {
             "colorbar": {
              "outlinewidth": 0,
              "ticks": ""
             }
            },
            "type": "scattergeo"
           }
          ],
          "scattergl": [
           {
            "marker": {
             "colorbar": {
              "outlinewidth": 0,
              "ticks": ""
             }
            },
            "type": "scattergl"
           }
          ],
          "scattermap": [
           {
            "marker": {
             "colorbar": {
              "outlinewidth": 0,
              "ticks": ""
             }
            },
            "type": "scattermap"
           }
          ],
          "scattermapbox": [
           {
            "marker": {
             "colorbar": {
              "outlinewidth": 0,
              "ticks": ""
             }
            },
            "type": "scattermapbox"
           }
          ],
          "scatterpolar": [
           {
            "marker": {
             "colorbar": {
              "outlinewidth": 0,
              "ticks": ""
             }
            },
            "type": "scatterpolar"
           }
          ],
          "scatterpolargl": [
           {
            "marker": {
             "colorbar": {
              "outlinewidth": 0,
              "ticks": ""
             }
            },
            "type": "scatterpolargl"
           }
          ],
          "scatterternary": [
           {
            "marker": {
             "colorbar": {
              "outlinewidth": 0,
              "ticks": ""
             }
            },
            "type": "scatterternary"
           }
          ],
          "surface": [
           {
            "colorbar": {
             "outlinewidth": 0,
             "ticks": ""
            },
            "colorscale": [
             [
              0,
              "#0d0887"
             ],
             [
              0.1111111111111111,
              "#46039f"
             ],
             [
              0.2222222222222222,
              "#7201a8"
             ],
             [
              0.3333333333333333,
              "#9c179e"
             ],
             [
              0.4444444444444444,
              "#bd3786"
             ],
             [
              0.5555555555555556,
              "#d8576b"
             ],
             [
              0.6666666666666666,
              "#ed7953"
             ],
             [
              0.7777777777777778,
              "#fb9f3a"
             ],
             [
              0.8888888888888888,
              "#fdca26"
             ],
             [
              1,
              "#f0f921"
             ]
            ],
            "type": "surface"
           }
          ],
          "table": [
           {
            "cells": {
             "fill": {
              "color": "#EBF0F8"
             },
             "line": {
              "color": "white"
             }
            },
            "header": {
             "fill": {
              "color": "#C8D4E3"
             },
             "line": {
              "color": "white"
             }
            },
            "type": "table"
           }
          ]
         },
         "layout": {
          "annotationdefaults": {
           "arrowcolor": "#2a3f5f",
           "arrowhead": 0,
           "arrowwidth": 1
          },
          "autotypenumbers": "strict",
          "coloraxis": {
           "colorbar": {
            "outlinewidth": 0,
            "ticks": ""
           }
          },
          "colorscale": {
           "diverging": [
            [
             0,
             "#8e0152"
            ],
            [
             0.1,
             "#c51b7d"
            ],
            [
             0.2,
             "#de77ae"
            ],
            [
             0.3,
             "#f1b6da"
            ],
            [
             0.4,
             "#fde0ef"
            ],
            [
             0.5,
             "#f7f7f7"
            ],
            [
             0.6,
             "#e6f5d0"
            ],
            [
             0.7,
             "#b8e186"
            ],
            [
             0.8,
             "#7fbc41"
            ],
            [
             0.9,
             "#4d9221"
            ],
            [
             1,
             "#276419"
            ]
           ],
           "sequential": [
            [
             0,
             "#0d0887"
            ],
            [
             0.1111111111111111,
             "#46039f"
            ],
            [
             0.2222222222222222,
             "#7201a8"
            ],
            [
             0.3333333333333333,
             "#9c179e"
            ],
            [
             0.4444444444444444,
             "#bd3786"
            ],
            [
             0.5555555555555556,
             "#d8576b"
            ],
            [
             0.6666666666666666,
             "#ed7953"
            ],
            [
             0.7777777777777778,
             "#fb9f3a"
            ],
            [
             0.8888888888888888,
             "#fdca26"
            ],
            [
             1,
             "#f0f921"
            ]
           ],
           "sequentialminus": [
            [
             0,
             "#0d0887"
            ],
            [
             0.1111111111111111,
             "#46039f"
            ],
            [
             0.2222222222222222,
             "#7201a8"
            ],
            [
             0.3333333333333333,
             "#9c179e"
            ],
            [
             0.4444444444444444,
             "#bd3786"
            ],
            [
             0.5555555555555556,
             "#d8576b"
            ],
            [
             0.6666666666666666,
             "#ed7953"
            ],
            [
             0.7777777777777778,
             "#fb9f3a"
            ],
            [
             0.8888888888888888,
             "#fdca26"
            ],
            [
             1,
             "#f0f921"
            ]
           ]
          },
          "colorway": [
           "#636efa",
           "#EF553B",
           "#00cc96",
           "#ab63fa",
           "#FFA15A",
           "#19d3f3",
           "#FF6692",
           "#B6E880",
           "#FF97FF",
           "#FECB52"
          ],
          "font": {
           "color": "#2a3f5f"
          },
          "geo": {
           "bgcolor": "white",
           "lakecolor": "white",
           "landcolor": "#E5ECF6",
           "showlakes": true,
           "showland": true,
           "subunitcolor": "white"
          },
          "hoverlabel": {
           "align": "left"
          },
          "hovermode": "closest",
          "mapbox": {
           "style": "light"
          },
          "paper_bgcolor": "white",
          "plot_bgcolor": "#E5ECF6",
          "polar": {
           "angularaxis": {
            "gridcolor": "white",
            "linecolor": "white",
            "ticks": ""
           },
           "bgcolor": "#E5ECF6",
           "radialaxis": {
            "gridcolor": "white",
            "linecolor": "white",
            "ticks": ""
           }
          },
          "scene": {
           "xaxis": {
            "backgroundcolor": "#E5ECF6",
            "gridcolor": "white",
            "gridwidth": 2,
            "linecolor": "white",
            "showbackground": true,
            "ticks": "",
            "zerolinecolor": "white"
           },
           "yaxis": {
            "backgroundcolor": "#E5ECF6",
            "gridcolor": "white",
            "gridwidth": 2,
            "linecolor": "white",
            "showbackground": true,
            "ticks": "",
            "zerolinecolor": "white"
           },
           "zaxis": {
            "backgroundcolor": "#E5ECF6",
            "gridcolor": "white",
            "gridwidth": 2,
            "linecolor": "white",
            "showbackground": true,
            "ticks": "",
            "zerolinecolor": "white"
           }
          },
          "shapedefaults": {
           "line": {
            "color": "#2a3f5f"
           }
          },
          "ternary": {
           "aaxis": {
            "gridcolor": "white",
            "linecolor": "white",
            "ticks": ""
           },
           "baxis": {
            "gridcolor": "white",
            "linecolor": "white",
            "ticks": ""
           },
           "bgcolor": "#E5ECF6",
           "caxis": {
            "gridcolor": "white",
            "linecolor": "white",
            "ticks": ""
           }
          },
          "title": {
           "x": 0.05
          },
          "xaxis": {
           "automargin": true,
           "gridcolor": "white",
           "linecolor": "white",
           "ticks": "",
           "title": {
            "standoff": 15
           },
           "zerolinecolor": "white",
           "zerolinewidth": 2
          },
          "yaxis": {
           "automargin": true,
           "gridcolor": "white",
           "linecolor": "white",
           "ticks": "",
           "title": {
            "standoff": 15
           },
           "zerolinecolor": "white",
           "zerolinewidth": 2
          }
         }
        },
        "title": {
         "text": "Dot Product Similarity Visualization<br><sub>Angle: 93.1° | Dot Product: -0.055</sub>"
        },
        "width": 800
       }
      },
      "image/png": "[encoded data removed]"
     },
     "metadata": {},
     "output_type": "display_data"
    },
    {
     "name": "stdout",
     "output_type": "stream",
     "text": [
      "Understanding the Results:\n",
      "  • The dot product between vectors is -0.055\n",
      "  • This includes BOTH the angle (93.1°) AND the vector magnitudes\n",
      "  • Dot product = ||A|| × ||B|| × cos(angle) = 1.000 × 1.000 × -0.055\n",
      "  • This -0.055 value is EXACTLY what goes into similarity matrices!\n",
      "\n",
      "Interpretation: LOW dot product - vectors point in different directions or have small magnitudes\n",
      "\n",
      "Key Insight:\n",
      "   Dot product is DIFFERENT from normalized similarity because it includes\n",
      "   vector magnitudes. Longer vectors (richer semantic content) get higher scores\n",
      "   even at the same angle. This is why Bittensor used dot product!\n"
     ]
    }
   ],
   "source": [
    "import numpy as np\n",
    "import plotly.graph_objects as go\n",
    "from sentence_transformers import SentenceTransformer\n",
    "from sklearn.decomposition import PCA\n",
    "\n",
    "def visualize_dot_product_similarity_in_3d():\n",
    "    \"\"\"\n",
    "    Demonstrate dot product similarity between two sentences using 3D visualization.\n",
    "    This shows EXACTLY what goes into our similarity matrices!\n",
    "    \"\"\"\n",
    "    \n",
    "    print(\">>> Demonstrating Dot Product Similarity in 3D Space\")\n",
    "    print(\"=\" * 50)\n",
    "    \n",
    "    # Load the model\n",
    "    model = SentenceTransformer('all-MiniLM-L6-v2')\n",
    "    \n",
    "    # Step 1: Choose two contrasting sentences\n",
    "    sentence_a = \"Harry Potter was a young wizard\"\n",
    "    sentence_b = \"Climate change threatens our planet\"\n",
    "    \n",
    "    print(f\"Sentence A: '{sentence_a}'\")\n",
    "    print(f\"Sentence B: '{sentence_b}'\")\n",
    "    print()\n",
    "    \n",
    "    # Step 2: Get real embeddings (add neutral sentence for PCA to work in 3D)\n",
    "    print(\"Getting embeddings for both sentences...\")\n",
    "    # Add a neutral sentence just for PCA dimensionality (we'll only visualize A and B)\n",
    "    sentences_for_pca = [sentence_a, sentence_b, \"This is a neutral sentence.\"]\n",
    "    embeddings_with_neutral = model.encode(sentences_for_pca)\n",
    "    print(f\"Original embeddings shape: {embeddings_with_neutral.shape}\")\n",
    "    \n",
    "    # Step 3: Reduce to 3D for visualization\n",
    "    pca_reducer = PCA(n_components=3)\n",
    "    embeddings_3d = pca_reducer.fit_transform(embeddings_with_neutral)\n",
    "    \n",
    "    vec_a_3d = embeddings_3d[0]  # Harry Potter vector in 3D\n",
    "    vec_b_3d = embeddings_3d[1]  # Climate vector in 3D\n",
    "    # We'll ignore the neutral sentence vector for visualization\n",
    "    \n",
    "    print(f\"3D coordinates for visualization:\")\n",
    "    print(f\"  Vector A: [{vec_a_3d[0]:6.3f}, {vec_a_3d[1]:6.3f}, {vec_a_3d[2]:6.3f}]\")\n",
    "    print(f\"  Vector B: [{vec_b_3d[0]:6.3f}, {vec_b_3d[1]:6.3f}, {vec_b_3d[2]:6.3f}]\")\n",
    "    print()\n",
    "    \n",
    "    # Step 4: Calculate dot product similarity using the original high-dimensional embeddings\n",
    "    def calculate_dot_product_similarity(vec1, vec2):\n",
    "        \"\"\"Calculate dot product similarity - this is what Bittensor uses!\"\"\"\n",
    "        return np.dot(vec1, vec2)\n",
    "    \n",
    "    # Use original high-dimensional embeddings for accurate dot product\n",
    "    embeddings_original = model.encode([sentence_a, sentence_b])  # Just the two main sentences\n",
    "    dot_product_value = calculate_dot_product_similarity(embeddings_original[0], embeddings_original[1])\n",
    "    \n",
    "    # Calculate vector magnitudes for educational purposes\n",
    "    magnitude_a = np.linalg.norm(embeddings_original[0])\n",
    "    magnitude_b = np.linalg.norm(embeddings_original[1])\n",
    "    \n",
    "    # Calculate the angle for educational purposes (dot product = ||a|| * ||b|| * cos(angle))\n",
    "    normalized_dot_product = dot_product_value / (magnitude_a * magnitude_b)\n",
    "    angle_radians = np.arccos(np.clip(normalized_dot_product, -1.0, 1.0))\n",
    "    angle_degrees = np.degrees(angle_radians)\n",
    "    \n",
    "    print(f\"Mathematical Breakdown:\")\n",
    "    print(f\"  Dot Product: {dot_product_value:.3f}\")\n",
    "    print(f\"  Vector A magnitude: {magnitude_a:.3f}\")\n",
    "    print(f\"  Vector B magnitude: {magnitude_b:.3f}\")\n",
    "    print(f\"  Normalized value (for angle): {normalized_dot_product:.3f}\")\n",
    "    print(f\"  Angle between vectors: {angle_degrees:.1f}°\")\n",
    "    print()\n",
    "    \n",
    "    # Step 5: Create 3D visualization showing the vectors and dot product\n",
    "    fig = go.Figure()\n",
    "    \n",
    "    # Add origin\n",
    "    fig.add_trace(go.Scatter3d(\n",
    "        x=[0], y=[0], z=[0],\n",
    "        mode='markers',\n",
    "        marker=dict(size=10, color='black', symbol='diamond'),\n",
    "        name='Origin (0,0,0)',\n",
    "    ))\n",
    "    \n",
    "    # Add Vector A (Harry Potter)\n",
    "    fig.add_trace(go.Scatter3d(\n",
    "        x=[0, vec_a_3d[0]], y=[0, vec_a_3d[1]], z=[0, vec_a_3d[2]],\n",
    "        mode='lines+markers',\n",
    "        line=dict(color='blue', width=6),\n",
    "        marker=dict(size=[8, 12], color=['black', 'blue']),\n",
    "        name=f'Vector A: Harry Potter',\n",
    "        hovertemplate=f\"<b>Harry Potter Vector</b><br>\" +\n",
    "                     f\"Sentence: '{sentence_a}'<br>\" +\n",
    "                     f\"3D Endpoint: [{vec_a_3d[0]:.3f}, {vec_a_3d[1]:.3f}, {vec_a_3d[2]:.3f}]<br>\" +\n",
    "                     f\"Original Magnitude: {magnitude_a:.3f}<br>\" +\n",
    "                     \"<extra></extra>\"\n",
    "    ))\n",
    "    \n",
    "    # Add Vector B (Climate)\n",
    "    fig.add_trace(go.Scatter3d(\n",
    "        x=[0, vec_b_3d[0]], y=[0, vec_b_3d[1]], z=[0, vec_b_3d[2]],\n",
    "        mode='lines+markers',\n",
    "        line=dict(color='red', width=6),\n",
    "        marker=dict(size=[8, 12], color=['black', 'red']),\n",
    "        name=f'Vector B: Climate',\n",
    "        hovertemplate=f\"<b>Climate Vector</b><br>\" +\n",
    "                     f\"Sentence: '{sentence_b}'<br>\" +\n",
    "                     f\"3D Endpoint: [{vec_b_3d[0]:.3f}, {vec_b_3d[1]:.3f}, {vec_b_3d[2]:.3f}]<br>\" +\n",
    "                     f\"Original Magnitude: {magnitude_b:.3f}<br>\" +\n",
    "                     \"<extra></extra>\"\n",
    "    ))\n",
    "    \n",
    "    # Add text annotations at the vector endpoints\n",
    "    fig.add_trace(go.Scatter3d(\n",
    "        x=[vec_a_3d[0], vec_b_3d[0]], \n",
    "        y=[vec_a_3d[1], vec_b_3d[1]], \n",
    "        z=[vec_a_3d[2], vec_b_3d[2]],\n",
    "        mode='text',\n",
    "        text=['A', 'B'],\n",
    "        textfont=dict(size=16, color=['blue', 'red']),\n",
    "        textposition=\"top center\",\n",
    "        showlegend=False,\n",
    "        hoverinfo='skip'\n",
    "    ))\n",
    "    \n",
    "    fig.update_layout(\n",
    "        title=f\"Dot Product Similarity Visualization<br>\" +\n",
    "              f\"<sub>Angle: {angle_degrees:.1f}° | Dot Product: {dot_product_value:.3f}</sub>\",\n",
    "        scene=dict(\n",
    "            xaxis_title=\"PC1 (Principal Component 1)\",\n",
    "            yaxis_title=\"PC2 (Principal Component 2)\", \n",
    "            zaxis_title=\"PC3 (Principal Component 3)\",\n",
    "            camera=dict(eye=dict(x=1.3, y=1.3, z=1.3)),\n",
    "            aspectmode='cube'  # Make it easier to see angles\n",
    "        ),\n",
    "        width=800,\n",
    "        height=600\n",
    "    )\n",
    "    \n",
    "    fig.show()\n",
    "    \n",
    "    # Step 6: Explain the results\n",
    "    print(\"Understanding the Results:\")\n",
    "    print(f\"  • The dot product between vectors is {dot_product_value:.3f}\")\n",
    "    print(f\"  • This includes BOTH the angle ({angle_degrees:.1f}°) AND the vector magnitudes\")\n",
    "    print(f\"  • Dot product = ||A|| × ||B|| × cos(angle) = {magnitude_a:.3f} × {magnitude_b:.3f} × {normalized_dot_product:.3f}\")\n",
    "    print(f\"  • This {dot_product_value:.3f} value is EXACTLY what goes into similarity matrices!\")\n",
    "    print()\n",
    "    \n",
    "    if dot_product_value > 50:\n",
    "        interpretation = \"HIGH dot product - vectors have strong alignment and good magnitudes\"\n",
    "    elif dot_product_value > 10:\n",
    "        interpretation = \"MEDIUM dot product - some alignment but moderate magnitudes or angles\"\n",
    "    else:\n",
    "        interpretation = \"LOW dot product - vectors point in different directions or have small magnitudes\"\n",
    "    \n",
    "    print(f\"Interpretation: {interpretation}\")\n",
    "    print()\n",
    "    print(\"Key Insight:\")\n",
    "    print(\"   Dot product is DIFFERENT from normalized similarity because it includes\")\n",
    "    print(\"   vector magnitudes. Longer vectors (richer semantic content) get higher scores\")\n",
    "    print(\"   even at the same angle. This is why Bittensor used dot product!\")\n",
    "    \n",
    "    return dot_product_value, angle_degrees\n",
    "\n",
    "# Run the demonstration\n",
    "similarity_score, angle = visualize_dot_product_similarity_in_3d()"
   ]
  },
  {
   "cell_type": "markdown",
   "id": "49966f11-657f-4a37-b033-bc382bad31a2",
   "metadata": {},
   "source": [
    "## 2.0 Reward Heuristic: Finding The \"Best\" Chunks\n",
    "\n",
    "Going back to Harry Potter, imagine we could somehow calculate the similarity between sentences within the same paragraph. Ideally, they should be very similar. Now imagine we could calculate the similarity between random sentences from different paragraphs. Ideally, despite being random, they would be *more dissimilar than similar*.\n",
    "\n",
    "The Bittensor Chunking subnet used a mathematical way to measure chunk quality. Now that we understand cosine similarity, let's see how this reward system works:"
   ]
  },
  {
   "cell_type": "code",
   "execution_count": 6,
   "id": "20d948c9-17f1-460c-b7c8-b8a4c4fcbd8a",
   "metadata": {},
   "outputs": [
    {
     "name": "stdout",
     "output_type": "stream",
     "text": [
      ">>> Bittensor Reward Heuristic Visualization\n",
      "=============================================\n",
      ">>> Calculating all pairwise dot products...\n",
      "   (This is the math the Bittensor reward heuristic uses)\n",
      "\n"
     ]
    },
    {
     "data": {
      "image/png": "[encoded data removed]",
      "text/plain": [
       "<Figure size 2000x1000 with 2 Axes>"
      ]
     },
     "metadata": {},
     "output_type": "display_data"
    },
    {
     "name": "stdout",
     "output_type": "stream",
     "text": [
      ">>> Key Insights:\n",
      "   • ALL sentence pairs get dot product calculations (10 total for 5 sentences)\n",
      "   • Green arrows = Intrachunk dot products (want these HIGH)\n",
      "   • Red arrows = Interchunk dot products (want these LOW)\n",
      "   • Good chunking maximizes: exp(High Intra - Low Inter)\n",
      "   • Exponential scoring makes small improvements MUCH more significant!\n",
      "\n",
      ">>> Scaling Up:\n",
      "   • For 100 sentences: 4,950 pairwise calculations!\n",
      "   • For 1000 sentences: 499,500 calculations!\n",
      "   • This is why we need efficient similarity matrices...\n"
     ]
    }
   ],
   "source": [
    "import matplotlib.pyplot as plt\n",
    "import matplotlib.patches as patches\n",
    "from matplotlib.patches import FancyBboxPatch\n",
    "import numpy as np\n",
    "\n",
    "def visualize_reward_heuristic():\n",
    "    \"\"\"\n",
    "    Visualize the Bittensor reward heuristic calculation using a flowchart-style diagram.\n",
    "    Shows all pairwise similarities and the math that produces ~1.05 scores.\n",
    "    \"\"\"\n",
    "    \n",
    "    print(\">>> Bittensor Reward Heuristic Visualization\")\n",
    "    print(\"=\" * 45)\n",
    "\n",
    "    model = SentenceTransformer('all-MiniLM-L6-v2')  # 384 dimensions\n",
    "\n",
    "    # Our 5 sentences (same as before)\n",
    "    sentences = [\n",
    "        \"Harry Potter was a young wizard\",\n",
    "        \"He wore round glasses\", \n",
    "        \"Hogwarts School of Witchcraft and Wizardry was his home\",\n",
    "        \"Climate change threatens our planet\",\n",
    "        \"Rising sea levels are dangerous\"\n",
    "    ]\n",
    "    \n",
    "    # Get real embeddings and calculate all pairwise dot products\n",
    "    embeddings = model.encode(sentences)\n",
    "    \n",
    "    # Calculate dot product similarity matrix (this is what Bittensor actually uses!)\n",
    "    similarities = np.dot(embeddings, embeddings.T)\n",
    "    \n",
    "    print(\">>> Calculating all pairwise dot products...\")\n",
    "    print(\"   (This is the math the Bittensor reward heuristic uses)\")\n",
    "    print()\n",
    "    \n",
    "    # Define two chunking strategies to compare\n",
    "    strategies = {\n",
    "        \"Bad Chunking\": {\n",
    "            \"chunks\": [[0, 3], [1, 4], [2]],  # Mixed topics\n",
    "            \"colors\": [\"lightcoral\", \"lightblue\", \"lightgreen\"]\n",
    "        },\n",
    "        \"Good Chunking\": {\n",
    "            \"chunks\": [[0, 1, 2], [3, 4]],  # Topic-based\n",
    "            \"colors\": [\"lightblue\", \"lightcoral\"]\n",
    "        }\n",
    "    }\n",
    "    \n",
    "    fig, (ax1, ax2) = plt.subplots(1, 2, figsize=(20, 10))\n",
    "    \n",
    "    for idx, (strategy_name, strategy) in enumerate(strategies.items()):\n",
    "        ax = ax1 if idx == 0 else ax2\n",
    "        \n",
    "        # Position sentences in 2D space grouped by chunks\n",
    "        positions = []\n",
    "        chunk_centers = [(2, 7), (8, 7), (5, 3)]  # Different positions for up to 3 chunks\n",
    "        \n",
    "        for chunk_idx, chunk in enumerate(strategy[\"chunks\"]):\n",
    "            center_x, center_y = chunk_centers[chunk_idx]\n",
    "            for i, sent_idx in enumerate(chunk):\n",
    "                # Position sentences around chunk center\n",
    "                x = center_x + (i - len(chunk)/2) * 1.5\n",
    "                y = center_y + np.random.uniform(-0.3, 0.3)  # Small random offset\n",
    "                positions.append((x, y))\n",
    "        \n",
    "        # Reorder positions to match original sentence order\n",
    "        ordered_positions = [None] * 5\n",
    "        position_idx = 0\n",
    "        for chunk in strategy[\"chunks\"]:\n",
    "            for sent_idx in chunk:\n",
    "                ordered_positions[sent_idx] = positions[position_idx]\n",
    "                position_idx += 1\n",
    "        positions = ordered_positions\n",
    "        \n",
    "        # Draw chunk boundary boxes\n",
    "        for chunk_idx, chunk in enumerate(strategy[\"chunks\"]):\n",
    "            if len(chunk) > 1:\n",
    "                chunk_positions = [positions[i] for i in chunk]\n",
    "                min_x = min(pos[0] for pos in chunk_positions) - 0.8\n",
    "                max_x = max(pos[0] for pos in chunk_positions) + 0.8\n",
    "                min_y = min(pos[1] for pos in chunk_positions) - 0.5\n",
    "                max_y = max(pos[1] for pos in chunk_positions) + 0.5\n",
    "                \n",
    "                rect = FancyBboxPatch(\n",
    "                    (min_x, min_y), max_x - min_x, max_y - min_y,\n",
    "                    boxstyle=\"round,pad=0.1\",\n",
    "                    facecolor=strategy[\"colors\"][chunk_idx],\n",
    "                    alpha=0.3,\n",
    "                    edgecolor='black',\n",
    "                    linewidth=2\n",
    "                )\n",
    "                ax.add_patch(rect)\n",
    "        \n",
    "        # Draw sentences as circles\n",
    "        for i, (x, y) in enumerate(positions):\n",
    "            # Determine which chunk this sentence belongs to\n",
    "            chunk_color = 'gray'\n",
    "            for chunk_idx, chunk in enumerate(strategy[\"chunks\"]):\n",
    "                if i in chunk:\n",
    "                    chunk_color = strategy[\"colors\"][chunk_idx]\n",
    "                    break\n",
    "            \n",
    "            circle = plt.Circle((x, y), 0.4, facecolor=chunk_color, alpha=0.8, edgecolor='black', linewidth=2)\n",
    "            ax.add_patch(circle)\n",
    "            ax.text(x, y, f'S{i+1}', ha='center', va='center', fontweight='bold', fontsize=10)\n",
    "        \n",
    "        # Calculate intrachunk and interchunk similarities for this strategy\n",
    "        intrachunk_similarities = []\n",
    "        interchunk_similarities = []\n",
    "        \n",
    "        # Draw arrows for all pairwise dot products\n",
    "        for i in range(5):\n",
    "            for j in range(i + 1, 5):\n",
    "                dot_product = similarities[i, j]\n",
    "                \n",
    "                # Determine if this pair is intrachunk or interchunk\n",
    "                same_chunk = False\n",
    "                for chunk in strategy[\"chunks\"]:\n",
    "                    if i in chunk and j in chunk:\n",
    "                        same_chunk = True\n",
    "                        intrachunk_similarities.append(dot_product)\n",
    "                        break\n",
    "                \n",
    "                if not same_chunk:\n",
    "                    interchunk_similarities.append(dot_product)\n",
    "                \n",
    "                # Draw arrow\n",
    "                x1, y1 = positions[i]\n",
    "                x2, y2 = positions[j]\n",
    "                \n",
    "                # Arrow color: green for intrachunk, red for interchunk\n",
    "                arrow_color = 'green' if same_chunk else 'red'\n",
    "                alpha = 0.8 if same_chunk else 0.6\n",
    "                \n",
    "                # Draw curved arrow to avoid overlap\n",
    "                mid_x, mid_y = (x1 + x2) / 2, (y1 + y2) / 2\n",
    "                \n",
    "                ax.annotate('', xy=(x2, y2), xytext=(x1, y1),\n",
    "                           arrowprops=dict(arrowstyle='->', color=arrow_color, \n",
    "                                         alpha=alpha, lw=2, connectionstyle=\"arc3,rad=0.1\"))\n",
    "                \n",
    "                # Add dot product value on arrow\n",
    "                ax.text(mid_x, mid_y + 0.2, f'{dot_product:.3f}', \n",
    "                       ha='center', va='center', fontsize=8, \n",
    "                       bbox=dict(boxstyle=\"round,pad=0.2\", facecolor='white', alpha=0.8))\n",
    "        \n",
    "        # Calculate reward score with exponential scaling (like Bittensor)\n",
    "        avg_intra = np.mean(intrachunk_similarities) if intrachunk_similarities else 0\n",
    "        avg_inter = np.mean(interchunk_similarities) if interchunk_similarities else 0\n",
    "        base_reward = avg_intra - avg_inter\n",
    "        \n",
    "        # Apply exponential scoring (this is the key Bittensor innovation!)\n",
    "        final_reward = np.exp(base_reward)\n",
    "        \n",
    "        # Add title and math\n",
    "        ax.set_title(f'{strategy_name}\\nFinal Reward: {final_reward:.3f}', \n",
    "                    fontsize=14, fontweight='bold', pad=20)\n",
    "        \n",
    "        # Add math breakdown at bottom\n",
    "        math_text = f\"\"\"Math Breakdown:\n",
    "[GREEN] Intrachunk Dot Products: {len(intrachunk_similarities)} pairs\n",
    "   Average = {avg_intra:.3f}\n",
    "\n",
    "[RED] Interchunk Dot Products: {len(interchunk_similarities)} pairs  \n",
    "   Average = {avg_inter:.3f}\n",
    "\n",
    "Base Score = {avg_intra:.3f} - {avg_inter:.3f} = {base_reward:.3f}\n",
    "Final Score = exp({base_reward:.3f}) = {final_reward:.3f}\"\"\"\n",
    "        \n",
    "        ax.text(0.02, 0.02, math_text, transform=ax.transAxes, fontsize=10,\n",
    "               verticalalignment='bottom', fontfamily='monospace',\n",
    "               bbox=dict(boxstyle=\"round,pad=0.5\", facecolor='lightyellow', alpha=0.8))\n",
    "        \n",
    "        # Set axis properties\n",
    "        ax.set_xlim(-1, 11)\n",
    "        ax.set_ylim(0, 9)\n",
    "        ax.set_aspect('equal')\n",
    "        ax.axis('off')\n",
    "    \n",
    "    # Add legend\n",
    "    legend_elements = [\n",
    "        plt.Line2D([0], [0], color='green', lw=3, label='Intrachunk Dot Product (same chunk)'),\n",
    "        plt.Line2D([0], [0], color='red', lw=3, label='Interchunk Dot Product (different chunks)')\n",
    "    ]\n",
    "    fig.legend(handles=legend_elements, loc='upper center', ncol=2, fontsize=12, \n",
    "              bbox_to_anchor=(0.5, 0.95))\n",
    "    \n",
    "    plt.tight_layout()\n",
    "    plt.subplots_adjust(top=0.85)\n",
    "    plt.show()\n",
    "    \n",
    "    print(\">>> Key Insights:\")\n",
    "    print(\"   • ALL sentence pairs get dot product calculations (10 total for 5 sentences)\")\n",
    "    print(\"   • Green arrows = Intrachunk dot products (want these HIGH)\")\n",
    "    print(\"   • Red arrows = Interchunk dot products (want these LOW)\") \n",
    "    print(\"   • Good chunking maximizes: exp(High Intra - Low Inter)\")\n",
    "    print(\"   • Exponential scoring makes small improvements MUCH more significant!\")\n",
    "    print()\n",
    "    print(\">>> Scaling Up:\")\n",
    "    print(\"   • For 100 sentences: 4,950 pairwise calculations!\")\n",
    "    print(\"   • For 1000 sentences: 499,500 calculations!\")\n",
    "    print(\"   • This is why we need efficient similarity matrices...\")\n",
    "\n",
    "# Run the visualization\n",
    "visualize_reward_heuristic()"
   ]
  },
  {
   "cell_type": "markdown",
   "id": "0d9d4e6c-92cd-42e0-af4a-755d19611dba",
   "metadata": {},
   "source": [
    "This method of scoring chunks was applied to fully chunked documents, typically resulted in a score near `1.0`, using the `text-embedding-ada-002` model from OpenAI. Crucially, the subnet required all chunks in the document to be within a max chunk size and chunk quantity. By maximizing the difference between intrachunk and interchunk similarity across many random samples, while staying within a max chunk size and max chunk quantity, algorithms highly optimized for this heuristic gradually produced better scores over time."
   ]
  },
  {
   "cell_type": "markdown",
   "id": "62dfb00e-f930-4ef7-9c61-cf851553dff3",
   "metadata": {},
   "source": [
    "## 2.0 The Similarity Matrix\n",
    "\n",
    "Many vector databases are designed to show "
   ]
  }
 ],
 "metadata": {
  "kernelspec": {
   "display_name": "Python 3 (ipykernel)",
   "language": "python",
   "name": "python3"
  },
  "language_info": {
   "codemirror_mode": {
    "name": "ipython",
    "version": 3
   },
   "file_extension": ".py",
   "mimetype": "text/x-python",
   "name": "python",
   "nbconvert_exporter": "python",
   "pygments_lexer": "ipython3",
   "version": "3.12.3"
  }
 },
 "nbformat": 4,
 "nbformat_minor": 5
}
